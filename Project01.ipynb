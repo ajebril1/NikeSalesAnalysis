{
 "cells": [
  {
   "cell_type": "markdown",
   "metadata": {},
   "source": [
    "Hello, This is my Data mining project 1. Today, we will be doing analysis on the Nike sales dataset (2024). As one of the world's leading sportswear brands and due to constantly evolving market landscape, Nike must leverage the data available to drive strategic business decisions, enhance the customer experience, and optimize sales globally. Nike's global sales performance is influenced by multiple factors, such as regional preferences, type of products, seasonality, pricing strategies, and the customer's behavior. Today, I will assume the role of a data analyst working at Nike and I am tasked to identify high performing markets, optimize inventory, and maximize revenue by adjusting market strategies. In order for that to be done, a data driven approach is required."
   ]
  },
  {
   "cell_type": "markdown",
   "metadata": {},
   "source": [
    "### The aim of this analysis \n",
    "\n",
    "As a data analyst working at Nike, I need to analyze Nike's global sales data for 2024 and uncover major trends, find growth opportunities, and optimize business strategies. Some of the questions we aim to answer include the following:\n",
    "\n",
    "1. Which countries or regions generate the highest sales revenue?\n",
    "2. Are there any specific months or quarters of the year with higher sales volumes globally or in a region?\n",
    "3. What is the most popular product in a region or country?\n",
    "4. How do discounts affect sales and the total revenue?\n",
    "5. Are there inventory issues where there is overstock or understock in any region?\n",
    "6. Can future sales be predicted using the data available? Can we predict customer behavior based on their purchase history?\n"
   ]
  },
  {
   "cell_type": "markdown",
   "metadata": {},
   "source": [
    "### About the data\n",
    "\n",
    "The Link to the Dataset : [Nike Sales (2024)](https://www.kaggle.com/datasets/ayushcx/nike-global-sales-data-2024/data)\n",
    "\n",
    "The Nike sales dataset was found on kaggle.com. It is a comprehensive dataset of Nike's global sales for 2024, including multiple regions, product categories, and price tiers. It is ideal for sales and revenue analysis, creating machine learning models to predict sales, and identifying trends. The features of this dataset are:\n",
    "- Month: month of sales\n",
    "- Region: The Geographic region\n",
    "- Main Category: High level product category\n",
    "- Sub Category: Specific product category within a main category\n",
    "- Product Line: product series or models\n",
    "- Price Tier: pricing tier\n",
    "- Units Sold: number of units sold\n",
    "- Revenue (USD): Total revenue\n",
    "- Online Sales Percentage: % of sales through online platforms\n",
    "- Retail Price: price per unit in USD\n"
   ]
  },
  {
   "cell_type": "markdown",
   "metadata": {},
   "source": [
    "The Dataset includes 1000 rows and 10 columns of data!"
   ]
  },
  {
   "cell_type": "markdown",
   "metadata": {},
   "source": [
    "### Exploring and cleaning the data\n",
    "\n",
    "Before we start doing analysis, we need to explore and clean the data to identify any missing values, outliers, or any inconsistencies. We need to load the dataset and check its structure and contents."
   ]
  },
  {
   "cell_type": "code",
   "execution_count": 24,
   "metadata": {},
   "outputs": [
    {
     "name": "stdout",
     "output_type": "stream",
     "text": [
      "Import done\n"
     ]
    }
   ],
   "source": [
    "# Importing needed libraries\n",
    "import pandas as pd\n",
    "import numpy as np\n",
    "import seaborn as sns\n",
    "import matplotlib.pyplot as plt\n",
    "print(\"Import done\")"
   ]
  },
  {
   "cell_type": "code",
   "execution_count": 25,
   "metadata": {},
   "outputs": [
    {
     "data": {
      "text/html": [
       "<div>\n",
       "<style scoped>\n",
       "    .dataframe tbody tr th:only-of-type {\n",
       "        vertical-align: middle;\n",
       "    }\n",
       "\n",
       "    .dataframe tbody tr th {\n",
       "        vertical-align: top;\n",
       "    }\n",
       "\n",
       "    .dataframe thead th {\n",
       "        text-align: right;\n",
       "    }\n",
       "</style>\n",
       "<table border=\"1\" class=\"dataframe\">\n",
       "  <thead>\n",
       "    <tr style=\"text-align: right;\">\n",
       "      <th></th>\n",
       "      <th>Month</th>\n",
       "      <th>Region</th>\n",
       "      <th>Main_Category</th>\n",
       "      <th>Sub_Category</th>\n",
       "      <th>Product_Line</th>\n",
       "      <th>Price_Tier</th>\n",
       "      <th>Units_Sold</th>\n",
       "      <th>Revenue_USD</th>\n",
       "      <th>Online_Sales_Percentage</th>\n",
       "      <th>Retail_Price</th>\n",
       "    </tr>\n",
       "  </thead>\n",
       "  <tbody>\n",
       "    <tr>\n",
       "      <th>0</th>\n",
       "      <td>November</td>\n",
       "      <td>India</td>\n",
       "      <td>Equipment</td>\n",
       "      <td>Bags</td>\n",
       "      <td>Gym Sack</td>\n",
       "      <td>Budget</td>\n",
       "      <td>48356</td>\n",
       "      <td>14506800</td>\n",
       "      <td>73</td>\n",
       "      <td>300</td>\n",
       "    </tr>\n",
       "    <tr>\n",
       "      <th>1</th>\n",
       "      <td>January</td>\n",
       "      <td>India</td>\n",
       "      <td>Equipment</td>\n",
       "      <td>Accessories</td>\n",
       "      <td>Hats</td>\n",
       "      <td>Budget</td>\n",
       "      <td>9842</td>\n",
       "      <td>2066820</td>\n",
       "      <td>50</td>\n",
       "      <td>210</td>\n",
       "    </tr>\n",
       "    <tr>\n",
       "      <th>2</th>\n",
       "      <td>October</td>\n",
       "      <td>India</td>\n",
       "      <td>Apparel</td>\n",
       "      <td>Tops</td>\n",
       "      <td>Tech Fleece</td>\n",
       "      <td>Mid-Range</td>\n",
       "      <td>25079</td>\n",
       "      <td>1755530</td>\n",
       "      <td>90</td>\n",
       "      <td>70</td>\n",
       "    </tr>\n",
       "    <tr>\n",
       "      <th>3</th>\n",
       "      <td>December</td>\n",
       "      <td>Greater China</td>\n",
       "      <td>Footwear</td>\n",
       "      <td>Cricket</td>\n",
       "      <td>Vapor Cricket</td>\n",
       "      <td>Premium</td>\n",
       "      <td>41404</td>\n",
       "      <td>8694840</td>\n",
       "      <td>58</td>\n",
       "      <td>210</td>\n",
       "    </tr>\n",
       "    <tr>\n",
       "      <th>4</th>\n",
       "      <td>May</td>\n",
       "      <td>Greater China</td>\n",
       "      <td>Equipment</td>\n",
       "      <td>Socks</td>\n",
       "      <td>Performance Socks</td>\n",
       "      <td>Premium</td>\n",
       "      <td>33569</td>\n",
       "      <td>5371040</td>\n",
       "      <td>53</td>\n",
       "      <td>160</td>\n",
       "    </tr>\n",
       "  </tbody>\n",
       "</table>\n",
       "</div>"
      ],
      "text/plain": [
       "      Month         Region Main_Category Sub_Category       Product_Line  \\\n",
       "0  November          India     Equipment         Bags           Gym Sack   \n",
       "1   January          India     Equipment  Accessories               Hats   \n",
       "2   October          India       Apparel         Tops        Tech Fleece   \n",
       "3  December  Greater China      Footwear      Cricket      Vapor Cricket   \n",
       "4       May  Greater China     Equipment        Socks  Performance Socks   \n",
       "\n",
       "  Price_Tier  Units_Sold  Revenue_USD  Online_Sales_Percentage  Retail_Price  \n",
       "0     Budget       48356     14506800                       73           300  \n",
       "1     Budget        9842      2066820                       50           210  \n",
       "2  Mid-Range       25079      1755530                       90            70  \n",
       "3    Premium       41404      8694840                       58           210  \n",
       "4    Premium       33569      5371040                       53           160  "
      ]
     },
     "execution_count": 25,
     "metadata": {},
     "output_type": "execute_result"
    }
   ],
   "source": [
    "# Creating a dataframe\n",
    "df = pd.read_csv(\"/Users/ahmadjebril/Downloads/nike_sales_2024.csv\")\n",
    "df.head()"
   ]
  },
  {
   "cell_type": "code",
   "execution_count": 26,
   "metadata": {},
   "outputs": [
    {
     "data": {
      "text/plain": [
       "Month                      object\n",
       "Region                     object\n",
       "Main_Category              object\n",
       "Sub_Category               object\n",
       "Product_Line               object\n",
       "Price_Tier                 object\n",
       "Units_Sold                  int64\n",
       "Revenue_USD                 int64\n",
       "Online_Sales_Percentage     int64\n",
       "Retail_Price                int64\n",
       "dtype: object"
      ]
     },
     "execution_count": 26,
     "metadata": {},
     "output_type": "execute_result"
    }
   ],
   "source": [
    "# we can look at the columns and their type\n",
    "df.dtypes"
   ]
  },
  {
   "cell_type": "code",
   "execution_count": 27,
   "metadata": {},
   "outputs": [
    {
     "name": "stdout",
     "output_type": "stream",
     "text": [
      "The index is: RangeIndex(start=0, stop=1000, step=1)\n",
      "The shape is: (1000, 10)\n"
     ]
    }
   ],
   "source": [
    "# we can look at the shape and the index values of the dataset\n",
    "print(\"The index is: \" + str(df.index))\n",
    "print(\"The shape is: \" + str(df.shape))"
   ]
  },
  {
   "cell_type": "code",
   "execution_count": 28,
   "metadata": {},
   "outputs": [
    {
     "data": {
      "text/html": [
       "<div>\n",
       "<style scoped>\n",
       "    .dataframe tbody tr th:only-of-type {\n",
       "        vertical-align: middle;\n",
       "    }\n",
       "\n",
       "    .dataframe tbody tr th {\n",
       "        vertical-align: top;\n",
       "    }\n",
       "\n",
       "    .dataframe thead th {\n",
       "        text-align: right;\n",
       "    }\n",
       "</style>\n",
       "<table border=\"1\" class=\"dataframe\">\n",
       "  <thead>\n",
       "    <tr style=\"text-align: right;\">\n",
       "      <th></th>\n",
       "      <th>Units_Sold</th>\n",
       "      <th>Revenue_USD</th>\n",
       "      <th>Online_Sales_Percentage</th>\n",
       "      <th>Retail_Price</th>\n",
       "    </tr>\n",
       "  </thead>\n",
       "  <tbody>\n",
       "    <tr>\n",
       "      <th>count</th>\n",
       "      <td>1000.000000</td>\n",
       "      <td>1.000000e+03</td>\n",
       "      <td>1000.000000</td>\n",
       "      <td>1000.00000</td>\n",
       "    </tr>\n",
       "    <tr>\n",
       "      <th>mean</th>\n",
       "      <td>28498.951000</td>\n",
       "      <td>5.039576e+06</td>\n",
       "      <td>70.040000</td>\n",
       "      <td>176.32000</td>\n",
       "    </tr>\n",
       "    <tr>\n",
       "      <th>std</th>\n",
       "      <td>12926.495678</td>\n",
       "      <td>3.267217e+06</td>\n",
       "      <td>11.748635</td>\n",
       "      <td>75.26169</td>\n",
       "    </tr>\n",
       "    <tr>\n",
       "      <th>min</th>\n",
       "      <td>5028.000000</td>\n",
       "      <td>2.874000e+05</td>\n",
       "      <td>50.000000</td>\n",
       "      <td>50.00000</td>\n",
       "    </tr>\n",
       "    <tr>\n",
       "      <th>25%</th>\n",
       "      <td>17554.250000</td>\n",
       "      <td>2.344675e+06</td>\n",
       "      <td>60.000000</td>\n",
       "      <td>110.00000</td>\n",
       "    </tr>\n",
       "    <tr>\n",
       "      <th>50%</th>\n",
       "      <td>28685.000000</td>\n",
       "      <td>4.328020e+06</td>\n",
       "      <td>71.000000</td>\n",
       "      <td>180.00000</td>\n",
       "    </tr>\n",
       "    <tr>\n",
       "      <th>75%</th>\n",
       "      <td>40026.000000</td>\n",
       "      <td>7.264942e+06</td>\n",
       "      <td>80.000000</td>\n",
       "      <td>240.00000</td>\n",
       "    </tr>\n",
       "    <tr>\n",
       "      <th>max</th>\n",
       "      <td>49992.000000</td>\n",
       "      <td>1.486470e+07</td>\n",
       "      <td>90.000000</td>\n",
       "      <td>300.00000</td>\n",
       "    </tr>\n",
       "  </tbody>\n",
       "</table>\n",
       "</div>"
      ],
      "text/plain": [
       "         Units_Sold   Revenue_USD  Online_Sales_Percentage  Retail_Price\n",
       "count   1000.000000  1.000000e+03              1000.000000    1000.00000\n",
       "mean   28498.951000  5.039576e+06                70.040000     176.32000\n",
       "std    12926.495678  3.267217e+06                11.748635      75.26169\n",
       "min     5028.000000  2.874000e+05                50.000000      50.00000\n",
       "25%    17554.250000  2.344675e+06                60.000000     110.00000\n",
       "50%    28685.000000  4.328020e+06                71.000000     180.00000\n",
       "75%    40026.000000  7.264942e+06                80.000000     240.00000\n",
       "max    49992.000000  1.486470e+07                90.000000     300.00000"
      ]
     },
     "execution_count": 28,
     "metadata": {},
     "output_type": "execute_result"
    }
   ],
   "source": [
    "# Summary statistics\n",
    "df.describe()"
   ]
  },
  {
   "cell_type": "code",
   "execution_count": 29,
   "metadata": {},
   "outputs": [
    {
     "data": {
      "text/plain": [
       "Month                      0\n",
       "Region                     0\n",
       "Main_Category              0\n",
       "Sub_Category               0\n",
       "Product_Line               0\n",
       "Price_Tier                 0\n",
       "Units_Sold                 0\n",
       "Revenue_USD                0\n",
       "Online_Sales_Percentage    0\n",
       "Retail_Price               0\n",
       "dtype: int64"
      ]
     },
     "execution_count": 29,
     "metadata": {},
     "output_type": "execute_result"
    }
   ],
   "source": [
    "# Checking for null values\n",
    "df.isnull().sum()"
   ]
  },
  {
   "cell_type": "markdown",
   "metadata": {},
   "source": [
    "We have no missing values. However, there is a couple of pre-processing steps we need to take!"
   ]
  },
  {
   "cell_type": "markdown",
   "metadata": {},
   "source": [
    "### Preprocessing the data\n",
    "\n",
    "1. We need to convert the column \"Month\" to a Datetime format for proper sorting and analysis. We need to map the months to numbers."
   ]
  },
  {
   "cell_type": "code",
   "execution_count": 30,
   "metadata": {},
   "outputs": [
    {
     "data": {
      "text/plain": [
       "Month                      object\n",
       "Region                     object\n",
       "Main_Category              object\n",
       "Sub_Category               object\n",
       "Product_Line               object\n",
       "Price_Tier                 object\n",
       "Units_Sold                  int64\n",
       "Revenue_USD                 int64\n",
       "Online_Sales_Percentage     int64\n",
       "Retail_Price                int64\n",
       "Month_Numbered              int64\n",
       "dtype: object"
      ]
     },
     "execution_count": 30,
     "metadata": {},
     "output_type": "execute_result"
    }
   ],
   "source": [
    "# Create a dictionary mapping each month to a number\n",
    "month_dict = {\"January\": 1, \"February\": 2, \"March\": 3, \"April\": 4, \"May\": 5, \"June\": 6, \"July\": 7, \"August\": 8, \"September\": 9, \"October\": 10, \"November\": 11, \"December\": 12}\n",
    "\n",
    "df[\"Month_Numbered\"] = df[\"Month\"].map(month_dict) # creating a new column\n",
    "df = df.sort_values(by=\"Month_Numbered\") # sorting by month\n",
    "df.dtypes # checking"
   ]
  },
  {
   "cell_type": "markdown",
   "metadata": {},
   "source": [
    "2. We need to encode the column \"Price_Tier\" as an ordinal variable rather than having an inherent order"
   ]
  },
  {
   "cell_type": "code",
   "execution_count": 31,
   "metadata": {},
   "outputs": [
    {
     "name": "stderr",
     "output_type": "stream",
     "text": [
      "/var/folders/0h/4h_5sph55tb7sm0f43y28fsr0000gn/T/ipykernel_34315/369854053.py:2: FutureWarning: Downcasting behavior in `replace` is deprecated and will be removed in a future version. To retain the old behavior, explicitly call `result.infer_objects(copy=False)`. To opt-in to the future behavior, set `pd.set_option('future.no_silent_downcasting', True)`\n",
      "  df[\"Price_Tier\"] = df[\"Price_Tier\"].replace(['Budget','Mid-Range','Premium'], [1,2,3])\n"
     ]
    },
    {
     "data": {
      "text/html": [
       "<div>\n",
       "<style scoped>\n",
       "    .dataframe tbody tr th:only-of-type {\n",
       "        vertical-align: middle;\n",
       "    }\n",
       "\n",
       "    .dataframe tbody tr th {\n",
       "        vertical-align: top;\n",
       "    }\n",
       "\n",
       "    .dataframe thead th {\n",
       "        text-align: right;\n",
       "    }\n",
       "</style>\n",
       "<table border=\"1\" class=\"dataframe\">\n",
       "  <thead>\n",
       "    <tr style=\"text-align: right;\">\n",
       "      <th></th>\n",
       "      <th>Month</th>\n",
       "      <th>Region</th>\n",
       "      <th>Main_Category</th>\n",
       "      <th>Sub_Category</th>\n",
       "      <th>Product_Line</th>\n",
       "      <th>Price_Tier</th>\n",
       "      <th>Units_Sold</th>\n",
       "      <th>Revenue_USD</th>\n",
       "      <th>Online_Sales_Percentage</th>\n",
       "      <th>Retail_Price</th>\n",
       "      <th>Month_Numbered</th>\n",
       "    </tr>\n",
       "  </thead>\n",
       "  <tbody>\n",
       "    <tr>\n",
       "      <th>1</th>\n",
       "      <td>January</td>\n",
       "      <td>India</td>\n",
       "      <td>Equipment</td>\n",
       "      <td>Accessories</td>\n",
       "      <td>Hats</td>\n",
       "      <td>1</td>\n",
       "      <td>9842</td>\n",
       "      <td>2066820</td>\n",
       "      <td>50</td>\n",
       "      <td>210</td>\n",
       "      <td>1</td>\n",
       "    </tr>\n",
       "    <tr>\n",
       "      <th>74</th>\n",
       "      <td>January</td>\n",
       "      <td>South Korea</td>\n",
       "      <td>Footwear</td>\n",
       "      <td>Basketball</td>\n",
       "      <td>KD Series</td>\n",
       "      <td>1</td>\n",
       "      <td>9847</td>\n",
       "      <td>2067870</td>\n",
       "      <td>72</td>\n",
       "      <td>210</td>\n",
       "      <td>1</td>\n",
       "    </tr>\n",
       "    <tr>\n",
       "      <th>82</th>\n",
       "      <td>January</td>\n",
       "      <td>Greater China</td>\n",
       "      <td>Equipment</td>\n",
       "      <td>Bags</td>\n",
       "      <td>Gym Sack</td>\n",
       "      <td>1</td>\n",
       "      <td>17746</td>\n",
       "      <td>2839360</td>\n",
       "      <td>78</td>\n",
       "      <td>160</td>\n",
       "      <td>1</td>\n",
       "    </tr>\n",
       "    <tr>\n",
       "      <th>90</th>\n",
       "      <td>January</td>\n",
       "      <td>Southeast Asia</td>\n",
       "      <td>Equipment</td>\n",
       "      <td>Bags</td>\n",
       "      <td>Backpack</td>\n",
       "      <td>1</td>\n",
       "      <td>26666</td>\n",
       "      <td>3199920</td>\n",
       "      <td>85</td>\n",
       "      <td>120</td>\n",
       "      <td>1</td>\n",
       "    </tr>\n",
       "    <tr>\n",
       "      <th>528</th>\n",
       "      <td>January</td>\n",
       "      <td>America</td>\n",
       "      <td>Footwear</td>\n",
       "      <td>Cricket</td>\n",
       "      <td>Vapor Cricket</td>\n",
       "      <td>1</td>\n",
       "      <td>28077</td>\n",
       "      <td>3930780</td>\n",
       "      <td>66</td>\n",
       "      <td>140</td>\n",
       "      <td>1</td>\n",
       "    </tr>\n",
       "  </tbody>\n",
       "</table>\n",
       "</div>"
      ],
      "text/plain": [
       "       Month          Region Main_Category Sub_Category   Product_Line  \\\n",
       "1    January           India     Equipment  Accessories           Hats   \n",
       "74   January     South Korea      Footwear   Basketball      KD Series   \n",
       "82   January   Greater China     Equipment         Bags       Gym Sack   \n",
       "90   January  Southeast Asia     Equipment         Bags       Backpack   \n",
       "528  January         America      Footwear      Cricket  Vapor Cricket   \n",
       "\n",
       "     Price_Tier  Units_Sold  Revenue_USD  Online_Sales_Percentage  \\\n",
       "1             1        9842      2066820                       50   \n",
       "74            1        9847      2067870                       72   \n",
       "82            1       17746      2839360                       78   \n",
       "90            1       26666      3199920                       85   \n",
       "528           1       28077      3930780                       66   \n",
       "\n",
       "     Retail_Price  Month_Numbered  \n",
       "1             210               1  \n",
       "74            210               1  \n",
       "82            160               1  \n",
       "90            120               1  \n",
       "528           140               1  "
      ]
     },
     "execution_count": 31,
     "metadata": {},
     "output_type": "execute_result"
    }
   ],
   "source": [
    "# Encoding Price_Tier\n",
    "df[\"Price_Tier\"] = df[\"Price_Tier\"].replace(['Budget','Mid-Range','Premium'], [1,2,3])\n",
    "df.head()"
   ]
  },
  {
   "cell_type": "markdown",
   "metadata": {},
   "source": [
    "3. We need to check for duplicates and remove them to avoid skewing the analysis"
   ]
  },
  {
   "cell_type": "code",
   "execution_count": 32,
   "metadata": {},
   "outputs": [
    {
     "name": "stdout",
     "output_type": "stream",
     "text": [
      "Duplicate rows: 0\n"
     ]
    }
   ],
   "source": [
    "# Checking for duplicates using an f string\n",
    "print(f\"Duplicate rows: {df.duplicated().sum()}\")\n"
   ]
  },
  {
   "cell_type": "markdown",
   "metadata": {},
   "source": [
    "There isn't any duplicate rows so no further action is needed"
   ]
  },
  {
   "cell_type": "markdown",
   "metadata": {},
   "source": [
    "4. We need to normalize the column \"Online_Sales_Percentage\" and convert it to a 0-1 scale, making it easier for analysis."
   ]
  },
  {
   "cell_type": "code",
   "execution_count": 33,
   "metadata": {},
   "outputs": [],
   "source": [
    "# dividing the column by 100\n",
    "df[\"Online_Sales_Percentage\"] = df[\"Online_Sales_Percentage\"] / 100"
   ]
  },
  {
   "cell_type": "markdown",
   "metadata": {},
   "source": [
    "5. We need to check for inconsistencies in categorical variables"
   ]
  },
  {
   "cell_type": "code",
   "execution_count": 34,
   "metadata": {},
   "outputs": [
    {
     "name": "stdout",
     "output_type": "stream",
     "text": [
      "['India' 'South Korea' 'Greater China' 'Southeast Asia' 'America' 'Europe'\n",
      " 'Japan']\n"
     ]
    }
   ],
   "source": [
    "# ensuring region names are consistent\n",
    "print(df[\"Region\"].unique())"
   ]
  },
  {
   "cell_type": "code",
   "execution_count": 35,
   "metadata": {},
   "outputs": [
    {
     "name": "stdout",
     "output_type": "stream",
     "text": [
      "['Hats' 'KD Series' 'Gym Sack' 'Backpack' 'Vapor Cricket' 'Windrunner'\n",
      " 'Tech Fleece' 'Bags' 'Therma-FIT' 'Blazer' 'Crew Socks' 'Mercurial'\n",
      " 'Performance Socks' 'Rain Jacket' 'Dri-FIT' 'Compression Wear'\n",
      " 'React Infinity' 'Air Zoom' 'Pegasus' 'Air Jordan' 'Air Max'\n",
      " 'Air Force 1' 'LeBron Series' 'Phantom Vision']\n"
     ]
    }
   ],
   "source": [
    "print(df[\"Product_Line\"].unique())"
   ]
  },
  {
   "cell_type": "code",
   "execution_count": 36,
   "metadata": {},
   "outputs": [
    {
     "name": "stdout",
     "output_type": "stream",
     "text": [
      "['Equipment' 'Footwear' 'Apparel']\n"
     ]
    }
   ],
   "source": [
    "print(df[\"Main_Category\"].unique())"
   ]
  },
  {
   "cell_type": "code",
   "execution_count": 37,
   "metadata": {},
   "outputs": [
    {
     "name": "stdout",
     "output_type": "stream",
     "text": [
      "['Accessories' 'Basketball' 'Bags' 'Cricket' 'Outerwear' 'Tops'\n",
      " 'Lifestyle' 'Socks' 'Football' 'Performance' 'Running']\n"
     ]
    }
   ],
   "source": [
    "print(df[\"Sub_Category\"].unique())"
   ]
  },
  {
   "cell_type": "markdown",
   "metadata": {},
   "source": [
    "There is no inconsistencies! No further changes are needed :)"
   ]
  },
  {
   "cell_type": "markdown",
   "metadata": {},
   "source": [
    "6. We can derive a discount percentage by comparing retail price and total revenue to check if any discounts were applied"
   ]
  },
  {
   "cell_type": "code",
   "execution_count": 38,
   "metadata": {},
   "outputs": [
    {
     "data": {
      "text/html": [
       "<div>\n",
       "<style scoped>\n",
       "    .dataframe tbody tr th:only-of-type {\n",
       "        vertical-align: middle;\n",
       "    }\n",
       "\n",
       "    .dataframe tbody tr th {\n",
       "        vertical-align: top;\n",
       "    }\n",
       "\n",
       "    .dataframe thead th {\n",
       "        text-align: right;\n",
       "    }\n",
       "</style>\n",
       "<table border=\"1\" class=\"dataframe\">\n",
       "  <thead>\n",
       "    <tr style=\"text-align: right;\">\n",
       "      <th></th>\n",
       "      <th>Month</th>\n",
       "      <th>Region</th>\n",
       "      <th>Main_Category</th>\n",
       "      <th>Sub_Category</th>\n",
       "      <th>Product_Line</th>\n",
       "      <th>Price_Tier</th>\n",
       "      <th>Units_Sold</th>\n",
       "      <th>Revenue_USD</th>\n",
       "      <th>Online_Sales_Percentage</th>\n",
       "      <th>Retail_Price</th>\n",
       "      <th>Month_Numbered</th>\n",
       "      <th>Discount_Percent</th>\n",
       "    </tr>\n",
       "  </thead>\n",
       "  <tbody>\n",
       "    <tr>\n",
       "      <th>1</th>\n",
       "      <td>January</td>\n",
       "      <td>India</td>\n",
       "      <td>Equipment</td>\n",
       "      <td>Accessories</td>\n",
       "      <td>Hats</td>\n",
       "      <td>1</td>\n",
       "      <td>9842</td>\n",
       "      <td>2066820</td>\n",
       "      <td>0.50</td>\n",
       "      <td>210</td>\n",
       "      <td>1</td>\n",
       "      <td>0.0</td>\n",
       "    </tr>\n",
       "    <tr>\n",
       "      <th>74</th>\n",
       "      <td>January</td>\n",
       "      <td>South Korea</td>\n",
       "      <td>Footwear</td>\n",
       "      <td>Basketball</td>\n",
       "      <td>KD Series</td>\n",
       "      <td>1</td>\n",
       "      <td>9847</td>\n",
       "      <td>2067870</td>\n",
       "      <td>0.72</td>\n",
       "      <td>210</td>\n",
       "      <td>1</td>\n",
       "      <td>0.0</td>\n",
       "    </tr>\n",
       "    <tr>\n",
       "      <th>82</th>\n",
       "      <td>January</td>\n",
       "      <td>Greater China</td>\n",
       "      <td>Equipment</td>\n",
       "      <td>Bags</td>\n",
       "      <td>Gym Sack</td>\n",
       "      <td>1</td>\n",
       "      <td>17746</td>\n",
       "      <td>2839360</td>\n",
       "      <td>0.78</td>\n",
       "      <td>160</td>\n",
       "      <td>1</td>\n",
       "      <td>0.0</td>\n",
       "    </tr>\n",
       "    <tr>\n",
       "      <th>90</th>\n",
       "      <td>January</td>\n",
       "      <td>Southeast Asia</td>\n",
       "      <td>Equipment</td>\n",
       "      <td>Bags</td>\n",
       "      <td>Backpack</td>\n",
       "      <td>1</td>\n",
       "      <td>26666</td>\n",
       "      <td>3199920</td>\n",
       "      <td>0.85</td>\n",
       "      <td>120</td>\n",
       "      <td>1</td>\n",
       "      <td>0.0</td>\n",
       "    </tr>\n",
       "    <tr>\n",
       "      <th>528</th>\n",
       "      <td>January</td>\n",
       "      <td>America</td>\n",
       "      <td>Footwear</td>\n",
       "      <td>Cricket</td>\n",
       "      <td>Vapor Cricket</td>\n",
       "      <td>1</td>\n",
       "      <td>28077</td>\n",
       "      <td>3930780</td>\n",
       "      <td>0.66</td>\n",
       "      <td>140</td>\n",
       "      <td>1</td>\n",
       "      <td>0.0</td>\n",
       "    </tr>\n",
       "  </tbody>\n",
       "</table>\n",
       "</div>"
      ],
      "text/plain": [
       "       Month          Region Main_Category Sub_Category   Product_Line  \\\n",
       "1    January           India     Equipment  Accessories           Hats   \n",
       "74   January     South Korea      Footwear   Basketball      KD Series   \n",
       "82   January   Greater China     Equipment         Bags       Gym Sack   \n",
       "90   January  Southeast Asia     Equipment         Bags       Backpack   \n",
       "528  January         America      Footwear      Cricket  Vapor Cricket   \n",
       "\n",
       "     Price_Tier  Units_Sold  Revenue_USD  Online_Sales_Percentage  \\\n",
       "1             1        9842      2066820                     0.50   \n",
       "74            1        9847      2067870                     0.72   \n",
       "82            1       17746      2839360                     0.78   \n",
       "90            1       26666      3199920                     0.85   \n",
       "528           1       28077      3930780                     0.66   \n",
       "\n",
       "     Retail_Price  Month_Numbered  Discount_Percent  \n",
       "1             210               1               0.0  \n",
       "74            210               1               0.0  \n",
       "82            160               1               0.0  \n",
       "90            120               1               0.0  \n",
       "528           140               1               0.0  "
      ]
     },
     "execution_count": 38,
     "metadata": {},
     "output_type": "execute_result"
    }
   ],
   "source": [
    "# checking if any discounts were applied\n",
    "df[\"Discount_Percent\"] = 1 - (df[\"Revenue_USD\"] / (df[\"Units_Sold\"] * df[\"Retail_Price\"]))\n",
    "df[\"Discount_Percent\"] = df[\"Discount_Percent\"].clip(0, 1)\n",
    "df.head()"
   ]
  },
  {
   "cell_type": "markdown",
   "metadata": {},
   "source": [
    "7. We need to check for outliers that could potentially distort insights using standard deviation methods"
   ]
  },
  {
   "cell_type": "code",
   "execution_count": 39,
   "metadata": {},
   "outputs": [],
   "source": [
    "# Creating a function detecting outliers using IQR\n",
    "def detect_outliers(df, column):\n",
    "    Q1 = df[column].quantile(0.25)\n",
    "    Q3 = df[column].quantile(0.75)\n",
    "    IQR = Q3 - Q1\n",
    "    lower_bound = Q1 - (1.5 * IQR)\n",
    "    upper_bound = Q3 + (1.5 * IQR)\n",
    "    return df[(df[column] >= lower_bound) & (df[column] <= upper_bound)]\n",
    "\n",
    "# applying the function to numerical columns\n",
    "numeric_columns = [\"Units_Sold\", \"Revenue_USD\", \"Retail_Price\"]\n",
    "for col in numeric_columns:\n",
    "    df = detect_outliers(df, col)"
   ]
  },
  {
   "cell_type": "code",
   "execution_count": 40,
   "metadata": {},
   "outputs": [
    {
     "name": "stdout",
     "output_type": "stream",
     "text": [
      "<class 'pandas.core.frame.DataFrame'>\n",
      "Index: 999 entries, 1 to 986\n",
      "Data columns (total 12 columns):\n",
      " #   Column                   Non-Null Count  Dtype  \n",
      "---  ------                   --------------  -----  \n",
      " 0   Month                    999 non-null    object \n",
      " 1   Region                   999 non-null    object \n",
      " 2   Main_Category            999 non-null    object \n",
      " 3   Sub_Category             999 non-null    object \n",
      " 4   Product_Line             999 non-null    object \n",
      " 5   Price_Tier               999 non-null    int64  \n",
      " 6   Units_Sold               999 non-null    int64  \n",
      " 7   Revenue_USD              999 non-null    int64  \n",
      " 8   Online_Sales_Percentage  999 non-null    float64\n",
      " 9   Retail_Price             999 non-null    int64  \n",
      " 10  Month_Numbered           999 non-null    int64  \n",
      " 11  Discount_Percent         999 non-null    float64\n",
      "dtypes: float64(2), int64(5), object(5)\n",
      "memory usage: 101.5+ KB\n"
     ]
    }
   ],
   "source": [
    "df.info()\n"
   ]
  },
  {
   "cell_type": "markdown",
   "metadata": {},
   "source": [
    "### Visualizing the data"
   ]
  },
  {
   "cell_type": "markdown",
   "metadata": {},
   "source": [
    "Now that we have explored the data, we can start to visualize it!"
   ]
  },
  {
   "cell_type": "markdown",
   "metadata": {},
   "source": [
    "1. Which countries or regions generate the highest sales revenue?"
   ]
  },
  {
   "cell_type": "code",
   "execution_count": 41,
   "metadata": {},
   "outputs": [
    {
     "name": "stderr",
     "output_type": "stream",
     "text": [
      "/var/folders/0h/4h_5sph55tb7sm0f43y28fsr0000gn/T/ipykernel_34315/4155834429.py:6: FutureWarning: \n",
      "\n",
      "Passing `palette` without assigning `hue` is deprecated and will be removed in v0.14.0. Assign the `y` variable to `hue` and set `legend=False` for the same effect.\n",
      "\n",
      "  sns.barplot(data=region_sales, x=\"Revenue_USD\", y=\"Region\", palette=\"Blues_r\")\n"
     ]
    },
    {
     "data": {
      "image/png": "[encoded data removed]",
      "text/plain": [
       "<Figure size 1200x600 with 1 Axes>"
      ]
     },
     "metadata": {},
     "output_type": "display_data"
    }
   ],
   "source": [
    "# Grouping by region and summing up the revenue to create a bar chart\n",
    "region_sales = df.groupby(\"Region\")[\"Revenue_USD\"].sum().reset_index().sort_values(by=\"Revenue_USD\", ascending=False)\n",
    "\n",
    "# creating the plot\n",
    "plt.figure(figsize=(12, 6))\n",
    "sns.barplot(data=region_sales, x=\"Revenue_USD\", y=\"Region\", palette=\"Blues_r\")\n",
    "plt.xlabel(\"Total Revenue (USD)\")\n",
    "plt.ylabel(\"Region\")\n",
    "plt.title(\"Total Sales Revenue by Region\")\n",
    "plt.show()"
   ]
  },
  {
   "cell_type": "markdown",
   "metadata": {},
   "source": [
    "Looking at the barplot, we can conclude that Greater China is leading total sales by region in 2024. "
   ]
  },
  {
   "cell_type": "markdown",
   "metadata": {},
   "source": [
    "2. Are there any specific months or quarters with higher sales volume globally?"
   ]
  },
  {
   "cell_type": "code",
   "execution_count": 42,
   "metadata": {},
   "outputs": [
    {
     "data": {
      "image/png": "[encoded data removed]",
      "text/plain": [
       "<Figure size 1000x500 with 1 Axes>"
      ]
     },
     "metadata": {},
     "output_type": "display_data"
    }
   ],
   "source": [
    "# Grouping by month_numbered column to see global sales trend\n",
    "monthly_sales = df.groupby(\"Month_Numbered\")[\"Units_Sold\"].sum().reset_index()\n",
    "\n",
    "# Creating the plot\n",
    "plt.figure(figsize=(10, 5))\n",
    "sns.lineplot(data=monthly_sales, x=\"Month_Numbered\", y=\"Units_Sold\", marker=\"o\", color=\"blue\")\n",
    "plt.xlabel(\"Month\")\n",
    "plt.ylabel(\"Units Sold\")\n",
    "plt.title(\"Monthly Sales Volume Trend\")\n",
    "plt.xticks(range(1, 13),\n",
    "           [\"Jan\", \"Feb\", \"Mar\", \"Apr\", \"May\", \"Jun\", \"Jul\", \"Aug\", \"Sep\", \"Oct\", \"Nov\", \"Dec\"])\n",
    "plt.grid(True)\n",
    "plt.show()"
   ]
  },
  {
   "cell_type": "markdown",
   "metadata": {},
   "source": [
    "Looking at the line plot, we can conclude that the sales tend to peak around the holiday season in December. Monthly sales are the lowest in April and tend to increase around the summer time."
   ]
  },
  {
   "cell_type": "markdown",
   "metadata": {},
   "source": [
    "We can also group the sales by the Quarter!"
   ]
  },
  {
   "cell_type": "code",
   "execution_count": 43,
   "metadata": {},
   "outputs": [
    {
     "name": "stderr",
     "output_type": "stream",
     "text": [
      "/var/folders/0h/4h_5sph55tb7sm0f43y28fsr0000gn/T/ipykernel_34315/3427370240.py:6: FutureWarning: \n",
      "\n",
      "Passing `palette` without assigning `hue` is deprecated and will be removed in v0.14.0. Assign the `x` variable to `hue` and set `legend=False` for the same effect.\n",
      "\n",
      "  sns.barplot(data=quarterly_sales, x=\"Quarter\", y=\"Units_Sold\", palette=\"coolwarm\")\n"
     ]
    },
    {
     "data": {
      "image/png": "[encoded data removed]",
      "text/plain": [
       "<Figure size 800x500 with 1 Axes>"
      ]
     },
     "metadata": {},
     "output_type": "display_data"
    }
   ],
   "source": [
    "# Quarterly Sales\n",
    "df[\"Quarter\"] = ((df[\"Month_Numbered\"] - 1) // 3) + 1\n",
    "quarterly_sales = df.groupby(\"Quarter\")[\"Units_Sold\"].sum().reset_index()\n",
    "\n",
    "plt.figure(figsize=(8, 5))\n",
    "sns.barplot(data=quarterly_sales, x=\"Quarter\", y=\"Units_Sold\", palette=\"coolwarm\")\n",
    "plt.xlabel(\"Quarter\")\n",
    "plt.ylabel(\"Units Sold\")\n",
    "plt.title(\"Sales Volume per Quarter\")\n",
    "plt.show()"
   ]
  },
  {
   "cell_type": "markdown",
   "metadata": {},
   "source": [
    "Looking at the bar plot, we could conclude that Quarter 4 has the highest sales due to the holiday season. "
   ]
  },
  {
   "cell_type": "markdown",
   "metadata": {},
   "source": [
    "3. What is the most popular product in a region or country?"
   ]
  },
  {
   "cell_type": "code",
   "execution_count": 44,
   "metadata": {},
   "outputs": [
    {
     "name": "stdout",
     "output_type": "stream",
     "text": [
      "           Region Main_Category  Units_Sold\n",
      "0         America       Apparel     1529686\n",
      "1          Europe       Apparel     1306036\n",
      "2   Greater China       Apparel     1662390\n",
      "3           India     Equipment     1621198\n",
      "4           Japan       Apparel     1568313\n",
      "5     South Korea     Equipment     1706490\n",
      "6  Southeast Asia     Equipment     1140001\n"
     ]
    }
   ],
   "source": [
    "# Finding the most popular product in each region\n",
    "top_product = df.groupby([\"Region\", \"Main_Category\"])[\"Units_Sold\"].sum().reset_index()\n",
    "top_product = top_product.sort_values(by=[\"Region\", \"Units_Sold\"], ascending=[True, False])\n",
    "top_product = top_product.groupby(\"Region\").first().reset_index()\n",
    "\n",
    "print(top_product)"
   ]
  },
  {
   "cell_type": "markdown",
   "metadata": {},
   "source": [
    "America has the most units sold in the world and it is apparel!"
   ]
  },
  {
   "cell_type": "markdown",
   "metadata": {},
   "source": [
    "4. How do discounts affect total revenue?"
   ]
  },
  {
   "cell_type": "code",
   "execution_count": 45,
   "metadata": {},
   "outputs": [
    {
     "data": {
      "image/png": "[encoded data removed]",
      "text/plain": [
       "<Figure size 1000x600 with 1 Axes>"
      ]
     },
     "metadata": {},
     "output_type": "display_data"
    }
   ],
   "source": [
    "# Creating scatter plot showing discount affect on revenue\n",
    "plt.figure(figsize=(10, 6))\n",
    "sns.scatterplot(data=df, x=\"Discount_Percent\", y=\"Revenue_USD\", alpha=0.5, color=\"red\")\n",
    "plt.xlabel(\"Discount Percentage\")\n",
    "plt.ylabel(\"Revenue (USD)\")\n",
    "plt.title(\"Effect of Discounts on Revenue\")\n",
    "plt.show()"
   ]
  },
  {
   "cell_type": "markdown",
   "metadata": {},
   "source": [
    "It seems like there isn't any discounts applied :("
   ]
  },
  {
   "cell_type": "markdown",
   "metadata": {},
   "source": [
    "5. Are there inventory issues in any region? (overstock or understock)"
   ]
  },
  {
   "cell_type": "code",
   "execution_count": 46,
   "metadata": {},
   "outputs": [
    {
     "name": "stderr",
     "output_type": "stream",
     "text": [
      "/var/folders/0h/4h_5sph55tb7sm0f43y28fsr0000gn/T/ipykernel_34315/1171204935.py:6: FutureWarning: \n",
      "\n",
      "Passing `palette` without assigning `hue` is deprecated and will be removed in v0.14.0. Assign the `y` variable to `hue` and set `legend=False` for the same effect.\n",
      "\n",
      "  sns.barplot(data=sales_variability, x=\"Units_Sold\", y=\"Region\", palette=\"magma\")\n"
     ]
    },
    {
     "data": {
      "image/png": "[encoded data removed]",
      "text/plain": [
       "<Figure size 1000x500 with 1 Axes>"
      ]
     },
     "metadata": {},
     "output_type": "display_data"
    }
   ],
   "source": [
    "# Calculating the variation of sales per region\n",
    "sales_variability = df.groupby(\"Region\")[\"Units_Sold\"].std().reset_index()\n",
    "\n",
    "# Creating the plot\n",
    "plt.figure(figsize=(10, 5))\n",
    "sns.barplot(data=sales_variability, x=\"Units_Sold\", y=\"Region\", palette=\"magma\")\n",
    "plt.xlabel(\"Sales Volatility\") # Standard deviation\n",
    "plt.ylabel(\"Region\")\n",
    "plt.title(\"Sales Volatility by Region\")\n",
    "plt.show()"
   ]
  },
  {
   "cell_type": "markdown",
   "metadata": {},
   "source": [
    "Higher variability indicates unpredictable demand and could indicate potential stock issues."
   ]
  },
  {
   "cell_type": "markdown",
   "metadata": {},
   "source": [
    "We could expand on this project further in the future by building a model using linear regression to predict Revenue in USD, using the features \"Units_Sold\" and \"Price_Tier\"!"
   ]
  },
  {
   "cell_type": "markdown",
   "metadata": {},
   "source": [
    "### Impact of this project"
   ]
  },
  {
   "cell_type": "markdown",
   "metadata": {},
   "source": [
    "#### Benefits"
   ]
  },
  {
   "cell_type": "markdown",
   "metadata": {},
   "source": [
    "- As someone working at Nike, I could use this analysis to optimize pricing strategies, marketing strategies, and inventory management based on the sales trends"
   ]
  },
  {
   "cell_type": "markdown",
   "metadata": {},
   "source": [
    "- Understanding the consumer behavior would allow Nike to create personalized marketing strategies enhancing the customer experience"
   ]
  },
  {
   "cell_type": "markdown",
   "metadata": {},
   "source": [
    "- Optimizing the inventory could reduce waste and overproduction supporting Nike's sustainability goals"
   ]
  },
  {
   "cell_type": "markdown",
   "metadata": {},
   "source": [
    "#### Potential Harms"
   ]
  },
  {
   "cell_type": "markdown",
   "metadata": {},
   "source": [
    "- The analysis was done favoring high revenue regions leading for wealthier markets to be prioritized. This could lead to reduced product availability and increased prices in some regions"
   ]
  },
  {
   "cell_type": "markdown",
   "metadata": {},
   "source": [
    "- The dataset might not have captured external factors potentially leading to misleading conclusions"
   ]
  },
  {
   "cell_type": "markdown",
   "metadata": {},
   "source": [
    "- Increasing prices per demand might lead customers to feel they are unfairly charged for products. "
   ]
  },
  {
   "cell_type": "markdown",
   "metadata": {},
   "source": [
    "#### What might be missing?"
   ]
  },
  {
   "cell_type": "markdown",
   "metadata": {},
   "source": [
    "- Customer Demographics: Age, gender, income, and purchasing motivators"
   ]
  },
  {
   "cell_type": "markdown",
   "metadata": {},
   "source": [
    "- Competitor Analysis: Information about competitors and how they are performing in the same regions is missing"
   ]
  },
  {
   "cell_type": "markdown",
   "metadata": {},
   "source": [
    "- Marketing Data: The dataset does not include athlete endorsements, campaigns, and social media engagement"
   ]
  },
  {
   "cell_type": "markdown",
   "metadata": {},
   "source": [
    "### References\n"
   ]
  },
  {
   "cell_type": "markdown",
   "metadata": {},
   "source": [
    "- ChatGPT : I used ChatGPT to help me understand some aspects of this project, such as getting help with coding the visuals.\n",
    "- Keggle.com : I used the Nike dataset from keggle\n",
    "- Canvas : I used available resources from modules in Canvas"
   ]
  }
 ],
 "metadata": {
  "kernelspec": {
   "display_name": "dataminingvenv",
   "language": "python",
   "name": "python3"
  },
  "language_info": {
   "codemirror_mode": {
    "name": "ipython",
    "version": 3
   },
   "file_extension": ".py",
   "mimetype": "text/x-python",
   "name": "python",
   "nbconvert_exporter": "python",
   "pygments_lexer": "ipython3",
   "version": "3.12.4"
  }
 },
 "nbformat": 4,
 "nbformat_minor": 2
}
